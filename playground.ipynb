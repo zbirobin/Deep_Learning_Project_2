{
 "cells": [
  {
   "cell_type": "code",
   "execution_count": 7,
   "metadata": {},
   "outputs": [],
   "source": [
    "%load_ext autoreload\n",
    "%autoreload 2"
   ]
  },
  {
   "cell_type": "code",
   "execution_count": 8,
   "metadata": {},
   "outputs": [],
   "source": [
    "from generate_data import generate_data\n",
    "from Modules import Sequential, Linear, ReLU, Tanh, Sigmoid\n",
    "from training import train_model_SGD, accuracy"
   ]
  },
  {
   "cell_type": "code",
   "execution_count": 10,
   "metadata": {},
   "outputs": [
    {
     "name": "stdout",
     "output_type": "stream",
     "text": [
      "torch.Size([1000, 2])\n",
      "tensor(1.)\n",
      "tensor(4.4510e-07)\n"
     ]
    }
   ],
   "source": [
    "N = 1000 # Number of samples in each dataset\n",
    "\n",
    "train_input, train_target, test_input, test_target = generate_data(1000, normalize=True)\n",
    "\n",
    "print(train_input.shape)\n",
    "print(train_input.std())\n",
    "print(train_input.mean())"
   ]
  },
  {
   "cell_type": "code",
   "execution_count": 40,
   "metadata": {
    "jupyter": {
     "outputs_hidden": true
    }
   },
   "outputs": [
    {
     "name": "stdout",
     "output_type": "stream",
     "text": [
      "The loss has diverged to infinity, you should maybe decrease the value of the learning rate or change one of the activation functions.\n"
     ]
    }
   ],
   "source": [
    "l1 = Linear(2,25)\n",
    "a1 = ReLU()\n",
    "l2 = Linear(25, 25)\n",
    "a2 = ReLU()\n",
    "l3 = Linear(25, 25)\n",
    "a3 = ReLU()\n",
    "l4 = Linear(25, 2)\n",
    "model = Sequential(l1, a1, l2, a2, l3, a3, l4)\n",
    "\n",
    "losses = train_model_SGD(model, train_input, train_target, nb_epoch=200, \n",
    "                         learning_rate=1e-3, mini_batch_size=100, verbose=True)"
   ]
  },
  {
   "cell_type": "code",
   "execution_count": null,
   "metadata": {},
   "outputs": [],
   "source": [
    "l1 = Linear(2,25)\n",
    "a1 = ReLU()\n",
    "l2 = Linear(25, 25)\n",
    "a2 = ReLU()\n",
    "l3 = Linear(25, 25)\n",
    "a3 = ReLU()\n",
    "l4 = Linear(25, 2)\n",
    "model = Sequential(l1, a1, l2, a2, l3, a3, l4)\n",
    "\n",
    "losses = train_model_SGD(model, train_input, train_target, nb_epoch=200, \n",
    "                         learning_rate=1e-3, mini_batch_size=100, verbose=True)"
   ]
  },
  {
   "cell_type": "code",
   "execution_count": 28,
   "metadata": {},
   "outputs": [
    {
     "data": {
      "text/plain": [
       "tensor(0.7910)"
      ]
     },
     "execution_count": 28,
     "metadata": {},
     "output_type": "execute_result"
    }
   ],
   "source": [
    "accuracy(model, train_input, train_target)"
   ]
  },
  {
   "cell_type": "code",
   "execution_count": 29,
   "metadata": {},
   "outputs": [
    {
     "data": {
      "text/plain": [
       "tensor(0.7590)"
      ]
     },
     "execution_count": 29,
     "metadata": {},
     "output_type": "execute_result"
    }
   ],
   "source": [
    "accuracy(model, test_input, test_target)"
   ]
  },
  {
   "cell_type": "code",
   "execution_count": null,
   "metadata": {},
   "outputs": [],
   "source": []
  }
 ],
 "metadata": {
  "kernelspec": {
   "display_name": "Python 3",
   "language": "python",
   "name": "python3"
  },
  "language_info": {
   "codemirror_mode": {
    "name": "ipython",
    "version": 3
   },
   "file_extension": ".py",
   "mimetype": "text/x-python",
   "name": "python",
   "nbconvert_exporter": "python",
   "pygments_lexer": "ipython3",
   "version": "3.7.6"
  },
  "pycharm": {
   "stem_cell": {
    "cell_type": "raw",
    "metadata": {
     "collapsed": false
    },
    "source": []
   }
  }
 },
 "nbformat": 4,
 "nbformat_minor": 4
}
