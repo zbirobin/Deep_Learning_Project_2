{
 "cells": [
  {
   "cell_type": "code",
   "execution_count": 1,
   "metadata": {},
   "outputs": [],
   "source": [
    "import math\n",
    "from random import sample\n",
    "from torch import empty\n",
    "\n",
    "from generate_data import generate_data\n",
    "from Modules import Sequential, Linear, ReLU, Tanh, Sigmoid, LossMSE"
   ]
  },
  {
   "cell_type": "code",
   "execution_count": 2,
   "metadata": {},
   "outputs": [
    {
     "name": "stdout",
     "output_type": "stream",
     "text": [
      "torch.Size([1000, 2])\n",
      "tensor(1.0000)\n",
      "tensor(-1.1122e-07)\n"
     ]
    }
   ],
   "source": [
    "N = 1000\n",
    "\n",
    "train_input, train_target, test_input, test_target = generate_data(1000, True)\n",
    "\n",
    "print(train_input.shape)\n",
    "print(train_input.std())\n",
    "print(train_input.mean())"
   ]
  },
  {
   "cell_type": "code",
   "execution_count": 3,
   "metadata": {
    "jupyter": {
     "outputs_hidden": true,
     "source_hidden": true
    }
   },
   "outputs": [
    {
     "name": "stdout",
     "output_type": "stream",
     "text": [
      "tensor([ 1., -1.,  1.,  1.,  1.,  1.,  1., -1.])\n",
      "tensor([0., 0., 0., 0.])\n",
      "ReLU has no parameters\n",
      "Tanh has no parameters\n",
      "[[(tensor([[-0.4741, -1.0968,  0.0198,  0.7538],\n",
      "        [-0.6199,  1.2094, -1.2085, -0.4808],\n",
      "        [-0.2418, -0.7311,  0.5526, -0.7504],\n",
      "        [ 0.1559,  2.0285,  0.8230,  0.2036],\n",
      "        [ 0.4077, -0.6128, -1.0538, -0.8381],\n",
      "        [-0.9060,  0.2269,  0.3754,  0.7649]]), tensor([[0., 0., 0., 0.],\n",
      "        [0., 0., 0., 0.],\n",
      "        [0., 0., 0., 0.],\n",
      "        [0., 0., 0., 0.],\n",
      "        [0., 0., 0., 0.],\n",
      "        [0., 0., 0., 0.]])), (tensor([6.6764e-07, 4.9153e-14, 1.3563e-19, 1.8578e-01, 3.9178e-02, 4.7429e+30]), tensor([0., 0., 0., 0., 0., 0.]))], None, [(tensor([[ 0.4660,  0.9695,  0.5439, -0.2080,  2.0194,  1.6116],\n",
      "        [ 0.0056,  0.4408, -0.3127, -1.2531, -1.1860, -1.7312],\n",
      "        [-0.2487, -0.0309,  0.4719, -1.2130,  0.3731,  0.5068],\n",
      "        [ 0.9429,  1.0302, -0.9563,  0.3355, -0.1102,  2.1731],\n",
      "        [-0.7564, -0.5229,  0.5746, -1.4651, -0.0496,  0.5849],\n",
      "        [ 1.7286, -1.1890,  0.4165,  0.0866,  1.3600, -0.1361],\n",
      "        [ 0.2102, -0.6376,  0.7255, -0.4834, -0.4766,  0.4996],\n",
      "        [ 0.1921,  0.5210,  2.9935,  3.7352, -0.7872, -0.8598]]), tensor([[0., 0., 0., 0., 0., 0.],\n",
      "        [0., 0., 0., 0., 0., 0.],\n",
      "        [0., 0., 0., 0., 0., 0.],\n",
      "        [0., 0., 0., 0., 0., 0.],\n",
      "        [0., 0., 0., 0., 0., 0.],\n",
      "        [0., 0., 0., 0., 0., 0.],\n",
      "        [0., 0., 0., 0., 0., 0.],\n",
      "        [0., 0., 0., 0., 0., 0.]])), (tensor([5.2177e-11, 4.0053e+24, 1.8037e+28, 2.0706e-19, 7.7447e+31, 4.5479e+33,\n",
      "        7.0696e+28, 6.9765e+22]), tensor([0., 0., 0., 0., 0., 0., 0., 0.]))], None]\n"
     ]
    },
    {
     "data": {
      "text/plain": [
       "'Linear(4x6) => ReLU => Linear(6x8) => Tanh'"
      ]
     },
     "execution_count": 3,
     "metadata": {},
     "output_type": "execute_result"
    }
   ],
   "source": [
    "l1 = Linear(4,6)\n",
    "r1 = ReLU()\n",
    "l2 = Linear(6, 8)\n",
    "t2 = Tanh()\n",
    "\n",
    "S = Sequential(l1, r1, l2, t2)\n",
    "print(S.forward(empty(4).normal_()))\n",
    "print(S.backward(empty(8).normal_()))\n",
    "print(S.param())\n",
    "S.name"
   ]
  },
  {
   "cell_type": "code",
   "execution_count": 4,
   "metadata": {},
   "outputs": [],
   "source": [
    "def one_hot_encode(target):\n",
    "    ohe_target = empty(target.shape[0], 2)\n",
    "    ohe_target[:, 0] = train_target == 0\n",
    "    ohe_target[:, 1] = train_target == 1\n",
    "    return ohe_target"
   ]
  },
  {
   "cell_type": "code",
   "execution_count": 29,
   "metadata": {},
   "outputs": [],
   "source": [
    "def train_model_SGD(model, train_input, train_target, nb_epoch=35, mini_batch_size=1):\n",
    "    nb_train_samples = train_input.shape[0]\n",
    "    ohe_train_target = one_hot_encode(train_target)\n",
    "    mse = LossMSE()\n",
    "    eta = 1e-1 / nb_train_samples\n",
    "    nb_batch_per_epoch = nb_train_samples//mini_batch_size\n",
    "    losses = empty(nb_epoch, nb_batch_per_epoch)\n",
    "    for epoch in range(nb_epoch):\n",
    "        for batch in range(nb_batch_per_epoch):\n",
    "            loss = 0\n",
    "            indices = sample(range(nb_train_samples), mini_batch_size)\n",
    "            for i in indices:\n",
    "                # Run forward pass\n",
    "                output = model.forward(train_input[i])\n",
    "                # Compute loss\n",
    "                loss += mse.compute_loss(output, ohe_train_target[i])\n",
    "                \n",
    "                # Run back propagation\n",
    "                model.backward(mse.gradient())\n",
    "            \n",
    "            loss /= nb_batch_per_epoch\n",
    "            losses[epoch][batch] = loss\n",
    "            model.update_param(eta)\n",
    "            model.zero_grad()\n",
    "        \n",
    "        mean_loss = losses.mean(1)[epoch]\n",
    "        print(f\"Epoch: {epoch}, Mean loss: {mean_loss}\")"
   ]
  },
  {
   "cell_type": "code",
   "execution_count": 30,
   "metadata": {},
   "outputs": [],
   "source": [
    "l1 = Linear(2,25)\n",
    "a1 = ReLU()\n",
    "l2 = Linear(25, 25)\n",
    "a2 = Tanh()\n",
    "l3 = Linear(25, 25)\n",
    "a3 = Sigmoid()\n",
    "l4 = Linear(25, 2)\n",
    "\n",
    "model = Sequential(l1, a1, l2, a2, l3, a3, l4)"
   ]
  },
  {
   "cell_type": "code",
   "execution_count": 31,
   "metadata": {
    "jupyter": {
     "outputs_hidden": true
    }
   },
   "outputs": [
    {
     "name": "stdout",
     "output_type": "stream",
     "text": [
      "Epoch: 0, Mean loss: 0.005780851934105158\n",
      "Epoch: 1, Mean loss: 0.0011925232829526067\n",
      "Epoch: 2, Mean loss: 0.0007115315529517829\n",
      "Epoch: 3, Mean loss: 0.0005163089954294264\n",
      "Epoch: 4, Mean loss: 0.0003799007972702384\n",
      "Epoch: 5, Mean loss: 0.0003064349584747106\n",
      "Epoch: 6, Mean loss: 0.00029846528195776045\n",
      "Epoch: 7, Mean loss: 0.00022276448726188391\n",
      "Epoch: 8, Mean loss: 0.00022204728156793863\n",
      "Epoch: 9, Mean loss: 0.00020371220307424664\n",
      "Epoch: 10, Mean loss: 0.00016944350500125438\n",
      "Epoch: 11, Mean loss: 0.00015764450654387474\n",
      "Epoch: 12, Mean loss: 0.0001564516860526055\n",
      "Epoch: 13, Mean loss: 0.00014290765102487057\n",
      "Epoch: 14, Mean loss: 0.00014341293717734516\n",
      "Epoch: 15, Mean loss: 0.00013695152301806957\n",
      "Epoch: 16, Mean loss: 0.00013215671060606837\n",
      "Epoch: 17, Mean loss: 0.00011268461821600795\n",
      "Epoch: 18, Mean loss: 0.00011057652591262013\n",
      "Epoch: 19, Mean loss: 0.0001138973530032672\n",
      "Epoch: 20, Mean loss: 0.00010396025027148426\n",
      "Epoch: 21, Mean loss: 0.00010465495142852888\n",
      "Epoch: 22, Mean loss: 0.00011670267122099176\n",
      "Epoch: 23, Mean loss: 9.39028977882117e-05\n",
      "Epoch: 24, Mean loss: 9.982128540286794e-05\n",
      "Epoch: 25, Mean loss: 9.997353481594473e-05\n",
      "Epoch: 26, Mean loss: 0.00010331060184398666\n",
      "Epoch: 27, Mean loss: 9.549303649691865e-05\n",
      "Epoch: 28, Mean loss: 8.798640919849277e-05\n",
      "Epoch: 29, Mean loss: 8.035788050619885e-05\n",
      "Epoch: 30, Mean loss: 8.125633758027107e-05\n",
      "Epoch: 31, Mean loss: 8.378674101550132e-05\n",
      "Epoch: 32, Mean loss: 8.807898848317564e-05\n",
      "Epoch: 33, Mean loss: 7.125637057470158e-05\n",
      "Epoch: 34, Mean loss: 8.476097718812525e-05\n"
     ]
    }
   ],
   "source": [
    "train_model_SGD(model, train_input, train_target)"
   ]
  },
  {
   "cell_type": "code",
   "execution_count": 32,
   "metadata": {},
   "outputs": [],
   "source": [
    "def accuracy(model, input, target):\n",
    "    output = empty(input.shape[0], 2)\n",
    "    for n in range(output.shape[0]):\n",
    "        output[n] = model.forward(train_input[n])\n",
    "    return (output.argmax(1) == target).sum() / float(output.shape[0])"
   ]
  },
  {
   "cell_type": "code",
   "execution_count": 33,
   "metadata": {},
   "outputs": [
    {
     "data": {
      "text/plain": [
       "tensor(0.9760)"
      ]
     },
     "execution_count": 33,
     "metadata": {},
     "output_type": "execute_result"
    }
   ],
   "source": [
    "accuracy(model, train_input, train_target)"
   ]
  },
  {
   "cell_type": "code",
   "execution_count": 34,
   "metadata": {},
   "outputs": [
    {
     "data": {
      "text/plain": [
       "tensor(0.5590)"
      ]
     },
     "execution_count": 34,
     "metadata": {},
     "output_type": "execute_result"
    }
   ],
   "source": [
    "accuracy(model, test_input, test_target)"
   ]
  },
  {
   "cell_type": "code",
   "execution_count": null,
   "metadata": {},
   "outputs": [],
   "source": []
  }
 ],
 "metadata": {
  "kernelspec": {
   "display_name": "Python 3",
   "language": "python",
   "name": "python3"
  },
  "language_info": {
   "codemirror_mode": {
    "name": "ipython",
    "version": 3
   },
   "file_extension": ".py",
   "mimetype": "text/x-python",
   "name": "python",
   "nbconvert_exporter": "python",
   "pygments_lexer": "ipython3",
   "version": "3.7.6"
  }
 },
 "nbformat": 4,
 "nbformat_minor": 4
}
