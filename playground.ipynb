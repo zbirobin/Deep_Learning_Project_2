{
 "cells": [
  {
   "cell_type": "code",
   "execution_count": 1,
   "metadata": {},
   "outputs": [],
   "source": [
    "from generate_data import generate_data\n",
    "from Modules import Sequential, Linear, ReLU, Tanh, Sigmoid\n",
    "from training import train_model_SGD, accuracy"
   ]
  },
  {
   "cell_type": "code",
   "execution_count": 2,
   "metadata": {},
   "outputs": [
    {
     "name": "stdout",
     "output_type": "stream",
     "text": [
      "torch.Size([1000, 2])\n",
      "tensor(1.)\n",
      "tensor(-9.7319e-08)\n"
     ]
    }
   ],
   "source": [
    "N = 1000 # Number of samples in each dataset\n",
    "\n",
    "train_input, train_target, test_input, test_target = generate_data(1000, normalize=True)\n",
    "\n",
    "print(train_input.shape)\n",
    "print(train_input.std())\n",
    "print(train_input.mean())"
   ]
  },
  {
   "cell_type": "code",
   "execution_count": 3,
   "metadata": {
    "jupyter": {
     "outputs_hidden": true
    }
   },
   "outputs": [
    {
     "name": "stdout",
     "output_type": "stream",
     "text": [
      "Epoch: 0, Loss: 31.161537170410156, Accuracy: 0.941\n",
      "Epoch: 5, Loss: 0.47185635566711426, Accuracy: 0.981\n",
      "Epoch: 10, Loss: 0.2894439399242401, Accuracy: 0.987\n",
      "Epoch: 15, Loss: 0.21482622623443604, Accuracy: 0.992\n",
      "Epoch: 20, Loss: 0.17628121376037598, Accuracy: 0.993\n",
      "Epoch: 25, Loss: 0.1541186422109604, Accuracy: 0.994\n",
      "Epoch: 30, Loss: 0.13928300142288208, Accuracy: 0.994\n",
      "Epoch: 35, Loss: 0.12811490893363953, Accuracy: 0.997\n",
      "Epoch: 40, Loss: 0.11867986619472504, Accuracy: 0.997\n",
      "Epoch: 45, Loss: 0.11017075181007385, Accuracy: 0.998\n",
      "Epoch: 50, Loss: 0.10327701270580292, Accuracy: 0.999\n",
      "Epoch: 55, Loss: 0.097982257604599, Accuracy: 0.999\n",
      "Epoch: 60, Loss: 0.09370912611484528, Accuracy: 0.999\n",
      "Epoch: 65, Loss: 0.09010674804449081, Accuracy: 0.999\n",
      "Epoch: 70, Loss: 0.08698549121618271, Accuracy: 0.999\n",
      "Epoch: 75, Loss: 0.08422665297985077, Accuracy: 0.999\n",
      "Epoch: 80, Loss: 0.08174818754196167, Accuracy: 0.999\n",
      "Epoch: 85, Loss: 0.07949364185333252, Accuracy: 0.999\n",
      "Epoch: 90, Loss: 0.07743078470230103, Accuracy: 0.999\n",
      "Epoch: 95, Loss: 0.0755472332239151, Accuracy: 0.999\n",
      "Epoch: 100, Loss: 0.07383841276168823, Accuracy: 0.999\n",
      "Epoch: 105, Loss: 0.07229533791542053, Accuracy: 0.999\n",
      "Epoch: 110, Loss: 0.07090200483798981, Accuracy: 0.999\n",
      "Epoch: 115, Loss: 0.06963906437158585, Accuracy: 0.999\n",
      "Epoch: 120, Loss: 0.06848715245723724, Accuracy: 0.999\n",
      "Epoch: 125, Loss: 0.0674293115735054, Accuracy: 0.999\n",
      "Epoch: 130, Loss: 0.0664510726928711, Accuracy: 0.999\n",
      "Epoch: 135, Loss: 0.06554054468870163, Accuracy: 0.999\n",
      "Epoch: 140, Loss: 0.06468813866376877, Accuracy: 0.999\n",
      "Epoch: 145, Loss: 0.06388593465089798, Accuracy: 0.999\n",
      "Epoch: 150, Loss: 0.06312752515077591, Accuracy: 0.999\n",
      "Epoch: 155, Loss: 0.06240766495466232, Accuracy: 0.999\n",
      "Epoch: 160, Loss: 0.06172202527523041, Accuracy: 0.999\n",
      "Epoch: 165, Loss: 0.06106703355908394, Accuracy: 0.999\n",
      "Epoch: 170, Loss: 0.0604395754635334, Accuracy: 0.999\n",
      "Epoch: 175, Loss: 0.05983716994524002, Accuracy: 0.999\n",
      "Epoch: 180, Loss: 0.05925753712654114, Accuracy: 0.999\n",
      "Epoch: 185, Loss: 0.058698900043964386, Accuracy: 0.999\n",
      "Epoch: 190, Loss: 0.058159567415714264, Accuracy: 0.999\n",
      "Epoch: 195, Loss: 0.05763814598321915, Accuracy: 0.999\n"
     ]
    }
   ],
   "source": [
    "l1 = Linear(2,25)\n",
    "a1 = Tanh()\n",
    "l2 = Linear(25, 25)\n",
    "a2 = Tanh()\n",
    "l3 = Linear(25, 25)\n",
    "a3 = Sigmoid()\n",
    "l4 = Linear(25, 2)\n",
    "model = Sequential(l1, a1, l2, a2, l3, a3, l4)\n",
    "\n",
    "losses = train_model_SGD(model, train_input, train_target, nb_epoch=200, mini_batch_size=100, verbose=True)"
   ]
  },
  {
   "cell_type": "code",
   "execution_count": 4,
   "metadata": {},
   "outputs": [
    {
     "data": {
      "text/plain": [
       "tensor(0.9990)"
      ]
     },
     "execution_count": 4,
     "metadata": {},
     "output_type": "execute_result"
    }
   ],
   "source": [
    "accuracy(model, train_input, train_target)"
   ]
  },
  {
   "cell_type": "code",
   "execution_count": 5,
   "metadata": {},
   "outputs": [
    {
     "data": {
      "text/plain": [
       "tensor(0.9950)"
      ]
     },
     "execution_count": 5,
     "metadata": {},
     "output_type": "execute_result"
    }
   ],
   "source": [
    "accuracy(model, test_input, test_target)"
   ]
  }
 ],
 "metadata": {
  "kernelspec": {
   "display_name": "Python 3",
   "language": "python",
   "name": "python3"
  },
  "language_info": {
   "codemirror_mode": {
    "name": "ipython",
    "version": 3
   },
   "file_extension": ".py",
   "mimetype": "text/x-python",
   "name": "python",
   "nbconvert_exporter": "python",
   "pygments_lexer": "ipython3",
   "version": "3.7.6"
  },
  "pycharm": {
   "stem_cell": {
    "cell_type": "raw",
    "metadata": {
     "collapsed": false
    },
    "source": []
   }
  }
 },
 "nbformat": 4,
 "nbformat_minor": 4
}
