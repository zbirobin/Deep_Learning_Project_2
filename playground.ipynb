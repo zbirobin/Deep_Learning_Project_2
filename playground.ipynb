{
 "cells": [
  {
   "cell_type": "code",
   "execution_count": 1,
   "metadata": {},
   "outputs": [],
   "source": [
    "import math\n",
    "\n",
    "from generate_data import generate_data\n",
    "from Modules import Sequential, Linear, ReLU, Tanh, Sigmoid\n",
    "from training import train_model_SGD, accuracy"
   ]
  },
  {
   "cell_type": "code",
   "execution_count": 2,
   "metadata": {},
   "outputs": [
    {
     "name": "stdout",
     "output_type": "stream",
     "text": [
      "torch.Size([1000, 2])\n",
      "tensor(1.)\n",
      "tensor(-3.6627e-07)\n"
     ]
    }
   ],
   "source": [
    "N = 1000\n",
    "\n",
    "train_input, train_target, test_input, test_target = generate_data(1000, True)\n",
    "\n",
    "print(train_input.shape)\n",
    "print(train_input.std())\n",
    "print(train_input.mean())"
   ]
  },
  {
   "cell_type": "code",
   "execution_count": 3,
   "metadata": {},
   "outputs": [],
   "source": [
    "l1 = Linear(2,25)\n",
    "a1 = ReLU()\n",
    "l2 = Linear(25, 25)\n",
    "a2 = Tanh()\n",
    "l3 = Linear(25, 25)\n",
    "a3 = Sigmoid()\n",
    "l4 = Linear(25, 2)\n",
    "\n",
    "model = Sequential(l1, a1, l2, a2, l3, a3, l4)"
   ]
  },
  {
   "cell_type": "code",
   "execution_count": 4,
   "metadata": {
    "jupyter": {
     "outputs_hidden": true
    }
   },
   "outputs": [
    {
     "name": "stdout",
     "output_type": "stream",
     "text": [
      "Epoch: 0, Mean loss: 102.47798919677734\n",
      "Epoch: 1, Mean loss: 11.504858016967773\n",
      "Epoch: 2, Mean loss: 6.3930768966674805\n",
      "Epoch: 3, Mean loss: 4.667671203613281\n",
      "Epoch: 4, Mean loss: 3.388240337371826\n",
      "Epoch: 5, Mean loss: 3.0663065910339355\n",
      "Epoch: 6, Mean loss: 2.6076183319091797\n",
      "Epoch: 7, Mean loss: 2.5072474479675293\n",
      "Epoch: 8, Mean loss: 2.257885456085205\n",
      "Epoch: 9, Mean loss: 2.1183905601501465\n",
      "Epoch: 10, Mean loss: 1.9663994312286377\n",
      "Epoch: 11, Mean loss: 1.8978954553604126\n",
      "Epoch: 12, Mean loss: 1.6216779947280884\n",
      "Epoch: 13, Mean loss: 1.6412988901138306\n",
      "Epoch: 14, Mean loss: 1.7238805294036865\n",
      "Epoch: 15, Mean loss: 1.4478148221969604\n",
      "Epoch: 16, Mean loss: 1.392446756362915\n",
      "Epoch: 17, Mean loss: 1.4102442264556885\n",
      "Epoch: 18, Mean loss: 1.2870157957077026\n",
      "Epoch: 19, Mean loss: 1.2748113870620728\n",
      "Epoch: 20, Mean loss: 1.2500075101852417\n",
      "Epoch: 21, Mean loss: 1.3165841102600098\n",
      "Epoch: 22, Mean loss: 1.2754290103912354\n",
      "Epoch: 23, Mean loss: 1.2452843189239502\n",
      "Epoch: 24, Mean loss: 1.0765403509140015\n",
      "Epoch: 25, Mean loss: 1.212800145149231\n",
      "Epoch: 26, Mean loss: 0.9864484667778015\n",
      "Epoch: 27, Mean loss: 1.045461893081665\n",
      "Epoch: 28, Mean loss: 0.9360747337341309\n",
      "Epoch: 29, Mean loss: 1.0278151035308838\n",
      "Epoch: 30, Mean loss: 0.8932970762252808\n",
      "Epoch: 31, Mean loss: 0.9243394136428833\n",
      "Epoch: 32, Mean loss: 0.9497793316841125\n",
      "Epoch: 33, Mean loss: 0.9826840162277222\n",
      "Epoch: 34, Mean loss: 0.8743388056755066\n",
      "Epoch: 35, Mean loss: 0.8394924998283386\n",
      "Epoch: 36, Mean loss: 0.9873414039611816\n",
      "Epoch: 37, Mean loss: 0.8725482225418091\n",
      "Epoch: 38, Mean loss: 0.7974771857261658\n",
      "Epoch: 39, Mean loss: 0.7947651743888855\n",
      "Epoch: 40, Mean loss: 0.8280345797538757\n",
      "Epoch: 41, Mean loss: 0.975175678730011\n",
      "Epoch: 42, Mean loss: 0.739915668964386\n",
      "Epoch: 43, Mean loss: 0.837310791015625\n",
      "Epoch: 44, Mean loss: 0.6698660254478455\n",
      "Epoch: 45, Mean loss: 0.8668128252029419\n",
      "Epoch: 46, Mean loss: 0.7151554822921753\n",
      "Epoch: 47, Mean loss: 0.7246038317680359\n",
      "Epoch: 48, Mean loss: 0.7997711300849915\n",
      "Epoch: 49, Mean loss: 0.7425585985183716\n"
     ]
    }
   ],
   "source": [
    "train_model_SGD(model, train_input, train_target, 50, mini_batch_size=100)"
   ]
  },
  {
   "cell_type": "code",
   "execution_count": 5,
   "metadata": {},
   "outputs": [
    {
     "data": {
      "text/plain": [
       "tensor(0.9840)"
      ]
     },
     "execution_count": 5,
     "metadata": {},
     "output_type": "execute_result"
    }
   ],
   "source": [
    "accuracy(model, train_input, train_target)"
   ]
  },
  {
   "cell_type": "code",
   "execution_count": 6,
   "metadata": {},
   "outputs": [
    {
     "data": {
      "text/plain": [
       "tensor(0.9900)"
      ]
     },
     "execution_count": 6,
     "metadata": {},
     "output_type": "execute_result"
    }
   ],
   "source": [
    "accuracy(model, test_input, test_target)"
   ]
  },
  {
   "cell_type": "code",
   "execution_count": null,
   "metadata": {},
   "outputs": [],
   "source": []
  }
 ],
 "metadata": {
  "kernelspec": {
   "display_name": "Python 3",
   "language": "python",
   "name": "python3"
  },
  "language_info": {
   "codemirror_mode": {
    "name": "ipython",
    "version": 3
   },
   "file_extension": ".py",
   "mimetype": "text/x-python",
   "name": "python",
   "nbconvert_exporter": "python",
   "pygments_lexer": "ipython3",
   "version": "3.7.6"
  },
  "pycharm": {
   "stem_cell": {
    "cell_type": "raw",
    "metadata": {
     "collapsed": false
    },
    "source": []
   }
  }
 },
 "nbformat": 4,
 "nbformat_minor": 4
}
