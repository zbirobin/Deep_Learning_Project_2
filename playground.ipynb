{
 "cells": [
  {
   "cell_type": "code",
   "execution_count": 1,
   "metadata": {},
   "outputs": [],
   "source": [
    "import math\n",
    "from torch import empty\n",
    "\n",
    "from generate_data import generate_data\n",
    "from Modules import Sequential, Linear, ReLU, Tanh, Sigmoid"
   ]
  },
  {
   "cell_type": "code",
   "execution_count": 2,
   "metadata": {},
   "outputs": [
    {
     "name": "stdout",
     "output_type": "stream",
     "text": [
      "torch.Size([1000, 2])\n",
      "tensor(1.)\n",
      "tensor(-1.3383e-07)\n"
     ]
    }
   ],
   "source": [
    "N = 1000\n",
    "\n",
    "train_input, train_target, test_input, test_target = generate_data(1000, True)\n",
    "\n",
    "print(train_input.shape)\n",
    "print(train_input.std())\n",
    "print(train_input.mean())"
   ]
  },
  {
   "cell_type": "code",
   "execution_count": 3,
   "metadata": {},
   "outputs": [
    {
     "name": "stdout",
     "output_type": "stream",
     "text": [
      "tensor([[0.9497, -0.0000],\n",
      "        [-0.0000, -0.0000],\n",
      "        [1.3456, 0.1700],\n",
      "        ...,\n",
      "        [0.0635, 1.3008],\n",
      "        [1.6612, 0.9951],\n",
      "        [1.0979, -0.0000]])\n",
      "tensor([[-0.4122, -0.0000],\n",
      "        [-0.0000, -0.0000],\n",
      "        [ 1.6260, -1.6718],\n",
      "        ...,\n",
      "        [-0.6255, -0.7552],\n",
      "        [ 0.7357, -0.7366],\n",
      "        [-0.2294, -0.0000]])\n",
      "ReLU has no parameters\n",
      "None\n"
     ]
    }
   ],
   "source": [
    "r = ReLU()\n",
    "print(r.forward(train_input))\n",
    "print(r.backward(test_input))\n",
    "print(r.param())"
   ]
  },
  {
   "cell_type": "code",
   "execution_count": 4,
   "metadata": {},
   "outputs": [
    {
     "name": "stdout",
     "output_type": "stream",
     "text": [
      "tensor([[ 0.7397, -0.8240],\n",
      "        [-0.8019, -0.8752],\n",
      "        [ 0.8730,  0.1683],\n",
      "        ...,\n",
      "        [ 0.0635,  0.8619],\n",
      "        [ 0.9304,  0.7595],\n",
      "        [ 0.7997, -0.2692]])\n",
      "tensor([[-0.1867, -0.2801],\n",
      "        [-0.3031, -0.3822],\n",
      "        [ 0.3867, -1.6245],\n",
      "        ...,\n",
      "        [-0.6230, -0.1941],\n",
      "        [ 0.0989, -0.3117],\n",
      "        [-0.0827, -0.9158]])\n",
      "Tanh has no parameters\n",
      "None\n"
     ]
    }
   ],
   "source": [
    "t = Tanh()\n",
    "print(t.forward(train_input))\n",
    "print(t.backward(test_input))\n",
    "print(t.param())"
   ]
  },
  {
   "cell_type": "code",
   "execution_count": 5,
   "metadata": {},
   "outputs": [
    {
     "name": "stdout",
     "output_type": "stream",
     "text": [
      "tensor([[0.7211, 0.2370],\n",
      "        [0.2490, 0.2051],\n",
      "        [0.7934, 0.5424],\n",
      "        ...,\n",
      "        [0.5159, 0.7860],\n",
      "        [0.8404, 0.7301],\n",
      "        [0.7499, 0.4314]])\n",
      "tensor([[-0.0829, -0.1578],\n",
      "        [-0.1588, -0.2662],\n",
      "        [ 0.2665, -0.4150],\n",
      "        ...,\n",
      "        [-0.1562, -0.1270],\n",
      "        [ 0.0987, -0.1452],\n",
      "        [-0.0430, -0.2422]])\n",
      "Sigmoid has no parameters\n",
      "None\n"
     ]
    }
   ],
   "source": [
    "s = Sigmoid()\n",
    "print(s.forward(train_input))\n",
    "print(s.backward(test_input))\n",
    "print(s.param())"
   ]
  },
  {
   "cell_type": "code",
   "execution_count": 6,
   "metadata": {},
   "outputs": [
    {
     "name": "stdout",
     "output_type": "stream",
     "text": [
      "tensor([ 4.0844e-01,  2.6811e+00, -1.0228e+11])\n",
      "tensor([1.6715, 0.0437])\n"
     ]
    },
    {
     "data": {
      "text/plain": [
       "[(tensor([[ 0.6341,  0.1745],\n",
       "          [ 2.4289,  2.1635],\n",
       "          [-1.5185,  1.2460]]), tensor([[ 0.9817,  1.6720],\n",
       "          [-0.0148, -0.0252],\n",
       "          [-0.0964, -0.1642]])),\n",
       " (tensor([ 0.0000e+00,  0.0000e+00, -1.0228e+11]),\n",
       "  tensor([ 2.2386, -0.0338, -0.2199]))]"
      ]
     },
     "execution_count": 6,
     "metadata": {},
     "output_type": "execute_result"
    }
   ],
   "source": [
    "l = Linear(2, 3)\n",
    "\n",
    "print(l.forward(empty(2).normal_()))\n",
    "print(l.backward(empty(3).normal_()))\n",
    "l.param()"
   ]
  },
  {
   "cell_type": "code",
   "execution_count": 27,
   "metadata": {},
   "outputs": [
    {
     "name": "stdout",
     "output_type": "stream",
     "text": [
      "tensor([-0.4584,  0.9998, -0.9819,  1.0000,  1.0000,  1.0000,  0.9944,  1.0000])\n",
      "tensor([-0.3121, -0.9346, -0.3514, -1.6374])\n",
      "ReLU has no parameters\n",
      "Tanh has no parameters\n",
      "[[(tensor([[-0.8555,  0.3907, -0.8390, -0.6090],\n",
      "        [-1.2687, -2.2299,  1.2594, -0.5788],\n",
      "        [ 0.0683,  0.2891, -0.6697,  0.1074],\n",
      "        [-0.1166,  0.7556,  0.2356,  0.2668],\n",
      "        [ 0.1682,  1.4267,  0.1849, -0.5607],\n",
      "        [ 0.4286,  1.3842, -0.8861,  1.4453]]), tensor([[ 0.3568,  0.8239, -0.2503, -0.5055],\n",
      "        [-0.0000, -0.0000,  0.0000,  0.0000],\n",
      "        [-0.0353, -0.0816,  0.0248,  0.0501],\n",
      "        [-1.2342, -2.8501,  0.8660,  1.7488],\n",
      "        [ 0.3698,  0.8541, -0.2595, -0.5241],\n",
      "        [-0.2804, -0.6474,  0.1967,  0.3973]])), (tensor([1.0000e+00, 1.0000e+00, 3.3631e-44, 0.0000e+00, 1.4013e-45, 0.0000e+00]), tensor([ 0.5023, -0.0000, -0.0497, -1.7378,  0.5208, -0.3948]))], None, [(tensor([[-0.4549,  0.4885,  0.0560,  1.7629, -0.5356,  0.3928],\n",
      "        [-1.0614, -0.7142, -0.0041,  0.5563,  0.9644,  0.9770],\n",
      "        [-1.4791,  0.1068, -0.4019, -2.3463,  1.0460, -0.1609],\n",
      "        [-1.6563, -0.5398, -0.5004, -0.6417,  0.4411,  0.2014],\n",
      "        [-0.0854, -2.0215, -2.4566,  0.6498, -0.0876,  0.7633],\n",
      "        [ 0.2535, -0.6683, -0.4136,  0.8020,  1.3598, -0.4754],\n",
      "        [ 0.3968, -2.3507, -1.2034,  1.8071, -0.0326,  1.1047],\n",
      "        [-0.9712, -0.8593, -1.1157,  0.1316, -1.0469, -0.0536]]), tensor([[-2.1079e+00,  0.0000e+00, -7.6409e-01, -7.8691e-01, -2.9937e+00,\n",
      "         -1.5948e+00],\n",
      "        [ 2.5456e-05, -0.0000e+00,  9.2274e-06,  9.5028e-06,  3.6152e-05,\n",
      "          1.9259e-05],\n",
      "        [-5.1585e-02,  0.0000e+00, -1.8699e-02, -1.9257e-02, -7.3261e-02,\n",
      "         -3.9028e-02],\n",
      "        [-0.0000e+00,  0.0000e+00, -0.0000e+00, -0.0000e+00, -0.0000e+00,\n",
      "         -0.0000e+00],\n",
      "        [-0.0000e+00,  0.0000e+00, -0.0000e+00, -0.0000e+00, -0.0000e+00,\n",
      "         -0.0000e+00],\n",
      "        [-0.0000e+00,  0.0000e+00, -0.0000e+00, -0.0000e+00, -0.0000e+00,\n",
      "         -0.0000e+00],\n",
      "        [ 4.3975e-03, -0.0000e+00,  1.5940e-03,  1.6416e-03,  6.2453e-03,\n",
      "          3.3271e-03],\n",
      "        [ 0.0000e+00, -0.0000e+00,  0.0000e+00,  0.0000e+00,  0.0000e+00,\n",
      "          0.0000e+00]])), (tensor([0.0000e+00, 2.0402e+00, 6.7131e-07, 8.4958e+20, 8.1717e+20, 2.0314e+20,\n",
      "        1.7062e-07, 5.3487e+22]), tensor([-1.0212e+00,  1.2332e-05, -2.4991e-02, -0.0000e+00, -0.0000e+00,\n",
      "        -0.0000e+00,  2.1304e-03,  0.0000e+00]))], None]\n"
     ]
    },
    {
     "data": {
      "text/plain": [
       "'Linear(4x6) => ReLU => Linear(6x8) => Tanh'"
      ]
     },
     "execution_count": 27,
     "metadata": {},
     "output_type": "execute_result"
    }
   ],
   "source": [
    "l1 = Linear(4,6)\n",
    "r1 = ReLU()\n",
    "l2 = Linear(6, 8)\n",
    "t2 = Tanh()\n",
    "\n",
    "S = Sequential(l1, r1, l2, t2)\n",
    "print(S.forward(empty(4).normal_()))\n",
    "print(S.backward(empty(8).normal_()))\n",
    "print(S.param())\n",
    "S.name"
   ]
  },
  {
   "cell_type": "code",
   "execution_count": null,
   "metadata": {},
   "outputs": [],
   "source": []
  },
  {
   "cell_type": "code",
   "execution_count": null,
   "metadata": {},
   "outputs": [],
   "source": []
  }
 ],
 "metadata": {
  "kernelspec": {
   "display_name": "Python 3",
   "language": "python",
   "name": "python3"
  },
  "language_info": {
   "codemirror_mode": {
    "name": "ipython",
    "version": 3
   },
   "file_extension": ".py",
   "mimetype": "text/x-python",
   "name": "python",
   "nbconvert_exporter": "python",
   "pygments_lexer": "ipython3",
   "version": "3.7.6"
  }
 },
 "nbformat": 4,
 "nbformat_minor": 2
}
