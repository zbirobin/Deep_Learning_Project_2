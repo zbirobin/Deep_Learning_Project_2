{
 "cells": [
  {
   "cell_type": "code",
   "execution_count": 1,
   "metadata": {},
   "outputs": [],
   "source": [
    "from generate_data import generate_data\n",
    "from Modules import Sequential, Linear, ReLU, Tanh, Sigmoid\n",
    "from training import train_model_SGD, accuracy"
   ]
  },
  {
   "cell_type": "code",
   "execution_count": 2,
   "metadata": {},
   "outputs": [
    {
     "name": "stdout",
     "output_type": "stream",
     "text": [
      "torch.Size([1000, 2])\n",
      "tensor(1.0000)\n",
      "tensor(-4.2468e-08)\n"
     ]
    }
   ],
   "source": [
    "N = 1000\n",
    "\n",
    "train_input, train_target, test_input, test_target = generate_data(1000, normalize=True)\n",
    "\n",
    "print(train_input.shape)\n",
    "print(train_input.std())\n",
    "print(train_input.mean())"
   ]
  },
  {
   "cell_type": "code",
   "execution_count": 3,
   "metadata": {
    "jupyter": {
     "outputs_hidden": true
    }
   },
   "outputs": [
    {
     "name": "stdout",
     "output_type": "stream",
     "text": [
      "Epoch: 0, Mean loss: 731.2591552734375\n",
      "Epoch: 1, Mean loss: 25.981586456298828\n",
      "Epoch: 2, Mean loss: 16.630634307861328\n",
      "Epoch: 3, Mean loss: 12.641036033630371\n",
      "Epoch: 4, Mean loss: 10.38334846496582\n",
      "Epoch: 5, Mean loss: 8.94833755493164\n",
      "Epoch: 6, Mean loss: 7.979610443115234\n",
      "Epoch: 7, Mean loss: 7.271518707275391\n",
      "Epoch: 8, Mean loss: 6.712674617767334\n",
      "Epoch: 9, Mean loss: 6.241418361663818\n",
      "Epoch: 10, Mean loss: 5.831198215484619\n",
      "Epoch: 11, Mean loss: 5.471380233764648\n",
      "Epoch: 12, Mean loss: 5.150875091552734\n",
      "Epoch: 13, Mean loss: 4.868113994598389\n",
      "Epoch: 14, Mean loss: 4.620927333831787\n",
      "Epoch: 15, Mean loss: 4.396542549133301\n",
      "Epoch: 16, Mean loss: 4.1891632080078125\n",
      "Epoch: 17, Mean loss: 4.00150728225708\n",
      "Epoch: 18, Mean loss: 3.8302199840545654\n",
      "Epoch: 19, Mean loss: 3.6781723499298096\n",
      "Epoch: 20, Mean loss: 3.5412425994873047\n",
      "Epoch: 21, Mean loss: 3.416712522506714\n",
      "Epoch: 22, Mean loss: 3.3031344413757324\n",
      "Epoch: 23, Mean loss: 3.197646141052246\n",
      "Epoch: 24, Mean loss: 3.0996837615966797\n",
      "Epoch: 25, Mean loss: 3.0152459144592285\n",
      "Epoch: 26, Mean loss: 2.9412946701049805\n",
      "Epoch: 27, Mean loss: 2.8729686737060547\n",
      "Epoch: 28, Mean loss: 2.8093128204345703\n",
      "Epoch: 29, Mean loss: 2.75059175491333\n",
      "Epoch: 30, Mean loss: 2.696671962738037\n",
      "Epoch: 31, Mean loss: 2.6468799114227295\n",
      "Epoch: 32, Mean loss: 2.600306749343872\n",
      "Epoch: 33, Mean loss: 2.556438684463501\n",
      "Epoch: 34, Mean loss: 2.515342950820923\n",
      "Epoch: 35, Mean loss: 2.477022409439087\n",
      "Epoch: 36, Mean loss: 2.4408648014068604\n",
      "Epoch: 37, Mean loss: 2.4062228202819824\n",
      "Epoch: 38, Mean loss: 2.3733973503112793\n",
      "Epoch: 39, Mean loss: 2.3423562049865723\n",
      "Epoch: 40, Mean loss: 2.3130204677581787\n",
      "Epoch: 41, Mean loss: 2.2852120399475098\n",
      "Epoch: 42, Mean loss: 2.2591047286987305\n",
      "Epoch: 43, Mean loss: 2.2343392372131348\n",
      "Epoch: 44, Mean loss: 2.21062970161438\n",
      "Epoch: 45, Mean loss: 2.188262462615967\n",
      "Epoch: 46, Mean loss: 2.166879177093506\n",
      "Epoch: 47, Mean loss: 2.14646577835083\n",
      "Epoch: 48, Mean loss: 2.1270363330841064\n",
      "Epoch: 49, Mean loss: 2.1079611778259277\n",
      "Epoch: 50, Mean loss: 2.089512348175049\n",
      "Epoch: 51, Mean loss: 2.0715155601501465\n",
      "Epoch: 52, Mean loss: 2.0541841983795166\n",
      "Epoch: 53, Mean loss: 2.037925958633423\n",
      "Epoch: 54, Mean loss: 2.021968364715576\n",
      "Epoch: 55, Mean loss: 2.0066606998443604\n",
      "Epoch: 56, Mean loss: 1.9922587871551514\n",
      "Epoch: 57, Mean loss: 1.9784094095230103\n",
      "Epoch: 58, Mean loss: 1.9649358987808228\n",
      "Epoch: 59, Mean loss: 1.952147126197815\n",
      "Epoch: 60, Mean loss: 1.9397594928741455\n",
      "Epoch: 61, Mean loss: 1.9277904033660889\n",
      "Epoch: 62, Mean loss: 1.91659414768219\n",
      "Epoch: 63, Mean loss: 1.9056167602539062\n",
      "Epoch: 64, Mean loss: 1.8950660228729248\n",
      "Epoch: 65, Mean loss: 1.8848950862884521\n",
      "Epoch: 66, Mean loss: 1.8749364614486694\n",
      "Epoch: 67, Mean loss: 1.865247368812561\n",
      "Epoch: 68, Mean loss: 1.8558952808380127\n",
      "Epoch: 69, Mean loss: 1.8466551303863525\n",
      "Epoch: 70, Mean loss: 1.8376750946044922\n",
      "Epoch: 71, Mean loss: 1.828997254371643\n",
      "Epoch: 72, Mean loss: 1.8203433752059937\n",
      "Epoch: 73, Mean loss: 1.8122758865356445\n",
      "Epoch: 74, Mean loss: 1.804168939590454\n",
      "Epoch: 75, Mean loss: 1.7962982654571533\n",
      "Epoch: 76, Mean loss: 1.788805365562439\n",
      "Epoch: 77, Mean loss: 1.781420350074768\n",
      "Epoch: 78, Mean loss: 1.774224877357483\n",
      "Epoch: 79, Mean loss: 1.767250657081604\n",
      "Epoch: 80, Mean loss: 1.7602859735488892\n",
      "Epoch: 81, Mean loss: 1.7534040212631226\n",
      "Epoch: 82, Mean loss: 1.746912956237793\n",
      "Epoch: 83, Mean loss: 1.7402740716934204\n",
      "Epoch: 84, Mean loss: 1.733870267868042\n",
      "Epoch: 85, Mean loss: 1.7275505065917969\n",
      "Epoch: 86, Mean loss: 1.7213537693023682\n",
      "Epoch: 87, Mean loss: 1.7152297496795654\n",
      "Epoch: 88, Mean loss: 1.7093298435211182\n",
      "Epoch: 89, Mean loss: 1.703460693359375\n",
      "Epoch: 90, Mean loss: 1.6976633071899414\n",
      "Epoch: 91, Mean loss: 1.6919059753417969\n",
      "Epoch: 92, Mean loss: 1.6862945556640625\n",
      "Epoch: 93, Mean loss: 1.6806676387786865\n",
      "Epoch: 94, Mean loss: 1.6752088069915771\n",
      "Epoch: 95, Mean loss: 1.6696536540985107\n",
      "Epoch: 96, Mean loss: 1.664401650428772\n",
      "Epoch: 97, Mean loss: 1.6590802669525146\n",
      "Epoch: 98, Mean loss: 1.6538711786270142\n",
      "Epoch: 99, Mean loss: 1.6488676071166992\n",
      "Epoch: 100, Mean loss: 1.643663763999939\n",
      "Epoch: 101, Mean loss: 1.6386044025421143\n",
      "Epoch: 102, Mean loss: 1.6337165832519531\n",
      "Epoch: 103, Mean loss: 1.6288745403289795\n",
      "Epoch: 104, Mean loss: 1.6238555908203125\n",
      "Epoch: 105, Mean loss: 1.6192384958267212\n",
      "Epoch: 106, Mean loss: 1.6143598556518555\n",
      "Epoch: 107, Mean loss: 1.6097017526626587\n",
      "Epoch: 108, Mean loss: 1.6050679683685303\n",
      "Epoch: 109, Mean loss: 1.600266695022583\n",
      "Epoch: 110, Mean loss: 1.5958890914916992\n",
      "Epoch: 111, Mean loss: 1.5912463665008545\n",
      "Epoch: 112, Mean loss: 1.5869048833847046\n",
      "Epoch: 113, Mean loss: 1.582284688949585\n",
      "Epoch: 114, Mean loss: 1.5780924558639526\n",
      "Epoch: 115, Mean loss: 1.573559045791626\n",
      "Epoch: 116, Mean loss: 1.5695194005966187\n",
      "Epoch: 117, Mean loss: 1.5650289058685303\n",
      "Epoch: 118, Mean loss: 1.5610334873199463\n",
      "Epoch: 119, Mean loss: 1.5566637516021729\n",
      "Epoch: 120, Mean loss: 1.552720308303833\n",
      "Epoch: 121, Mean loss: 1.5484278202056885\n",
      "Epoch: 122, Mean loss: 1.544609785079956\n",
      "Epoch: 123, Mean loss: 1.5403598546981812\n",
      "Epoch: 124, Mean loss: 1.5365736484527588\n",
      "Epoch: 125, Mean loss: 1.532449722290039\n",
      "Epoch: 126, Mean loss: 1.5286731719970703\n",
      "Epoch: 127, Mean loss: 1.5247955322265625\n",
      "Epoch: 128, Mean loss: 1.5209699869155884\n",
      "Epoch: 129, Mean loss: 1.5172473192214966\n",
      "Epoch: 130, Mean loss: 1.5134187936782837\n",
      "Epoch: 131, Mean loss: 1.5096787214279175\n",
      "Epoch: 132, Mean loss: 1.5059518814086914\n",
      "Epoch: 133, Mean loss: 1.5023225545883179\n",
      "Epoch: 134, Mean loss: 1.498445749282837\n",
      "Epoch: 135, Mean loss: 1.4947768449783325\n",
      "Epoch: 136, Mean loss: 1.4911746978759766\n",
      "Epoch: 137, Mean loss: 1.487443208694458\n",
      "Epoch: 138, Mean loss: 1.4839133024215698\n",
      "Epoch: 139, Mean loss: 1.4802747964859009\n",
      "Epoch: 140, Mean loss: 1.4767824411392212\n",
      "Epoch: 141, Mean loss: 1.47315514087677\n",
      "Epoch: 142, Mean loss: 1.469673991203308\n",
      "Epoch: 143, Mean loss: 1.4661173820495605\n",
      "Epoch: 144, Mean loss: 1.462826132774353\n",
      "Epoch: 145, Mean loss: 1.4593002796173096\n",
      "Epoch: 146, Mean loss: 1.4559175968170166\n",
      "Epoch: 147, Mean loss: 1.4524810314178467\n",
      "Epoch: 148, Mean loss: 1.4492849111557007\n",
      "Epoch: 149, Mean loss: 1.445860743522644\n",
      "Epoch: 150, Mean loss: 1.4426229000091553\n",
      "Epoch: 151, Mean loss: 1.4392826557159424\n",
      "Epoch: 152, Mean loss: 1.4360297918319702\n",
      "Epoch: 153, Mean loss: 1.4327925443649292\n",
      "Epoch: 154, Mean loss: 1.4295748472213745\n",
      "Epoch: 155, Mean loss: 1.4264403581619263\n",
      "Epoch: 156, Mean loss: 1.4231650829315186\n",
      "Epoch: 157, Mean loss: 1.420032262802124\n",
      "Epoch: 158, Mean loss: 1.4169206619262695\n",
      "Epoch: 159, Mean loss: 1.4138195514678955\n",
      "Epoch: 160, Mean loss: 1.4107377529144287\n",
      "Epoch: 161, Mean loss: 1.4076769351959229\n",
      "Epoch: 162, Mean loss: 1.4046220779418945\n",
      "Epoch: 163, Mean loss: 1.4015905857086182\n",
      "Epoch: 164, Mean loss: 1.3985702991485596\n",
      "Epoch: 165, Mean loss: 1.3955659866333008\n",
      "Epoch: 166, Mean loss: 1.3925793170928955\n",
      "Epoch: 167, Mean loss: 1.38960862159729\n",
      "Epoch: 168, Mean loss: 1.38665771484375\n",
      "Epoch: 169, Mean loss: 1.3837265968322754\n",
      "Epoch: 170, Mean loss: 1.3808125257492065\n",
      "Epoch: 171, Mean loss: 1.3779122829437256\n",
      "Epoch: 172, Mean loss: 1.3751145601272583\n",
      "Epoch: 173, Mean loss: 1.3721907138824463\n",
      "Epoch: 174, Mean loss: 1.3693342208862305\n",
      "Epoch: 175, Mean loss: 1.3665406703948975\n",
      "Epoch: 176, Mean loss: 1.363659381866455\n",
      "Epoch: 177, Mean loss: 1.3608096837997437\n",
      "Epoch: 178, Mean loss: 1.3579668998718262\n",
      "Epoch: 179, Mean loss: 1.3552191257476807\n",
      "Epoch: 180, Mean loss: 1.352355718612671\n",
      "Epoch: 181, Mean loss: 1.3495582342147827\n",
      "Epoch: 182, Mean loss: 1.3467891216278076\n",
      "Epoch: 183, Mean loss: 1.3439881801605225\n",
      "Epoch: 184, Mean loss: 1.3412264585494995\n",
      "Epoch: 185, Mean loss: 1.338424801826477\n",
      "Epoch: 186, Mean loss: 1.3357572555541992\n",
      "Epoch: 187, Mean loss: 1.3329633474349976\n",
      "Epoch: 188, Mean loss: 1.3302204608917236\n",
      "Epoch: 189, Mean loss: 1.3275306224822998\n",
      "Epoch: 190, Mean loss: 1.3248107433319092\n",
      "Epoch: 191, Mean loss: 1.3220651149749756\n",
      "Epoch: 192, Mean loss: 1.3193705081939697\n",
      "Epoch: 193, Mean loss: 1.3167089223861694\n",
      "Epoch: 194, Mean loss: 1.313995122909546\n",
      "Epoch: 195, Mean loss: 1.3112667798995972\n",
      "Epoch: 196, Mean loss: 1.3086543083190918\n",
      "Epoch: 197, Mean loss: 1.305924415588379\n",
      "Epoch: 198, Mean loss: 1.3032679557800293\n",
      "Epoch: 199, Mean loss: 1.3005574941635132\n"
     ]
    }
   ],
   "source": [
    "l1 = Linear(2,25)\n",
    "a1 = ReLU()\n",
    "l2 = Linear(25, 25)\n",
    "a2 = Tanh()\n",
    "l3 = Linear(25, 25)\n",
    "a3 = Sigmoid()\n",
    "l4 = Linear(25, 2)\n",
    "model = Sequential(l1, a1, l2, a2, l3, a3, l4)\n",
    "\n",
    "train_model_SGD(model, train_input, train_target, nb_epoch=200, mini_batch_size=100)"
   ]
  },
  {
   "cell_type": "code",
   "execution_count": 4,
   "metadata": {},
   "outputs": [
    {
     "data": {
      "text/plain": [
       "tensor(0.9960)"
      ]
     },
     "execution_count": 4,
     "metadata": {},
     "output_type": "execute_result"
    }
   ],
   "source": [
    "accuracy(model, train_input, train_target)"
   ]
  },
  {
   "cell_type": "code",
   "execution_count": 5,
   "metadata": {},
   "outputs": [
    {
     "data": {
      "text/plain": [
       "tensor(0.9930)"
      ]
     },
     "execution_count": 5,
     "metadata": {},
     "output_type": "execute_result"
    }
   ],
   "source": [
    "accuracy(model, test_input, test_target)"
   ]
  }
 ],
 "metadata": {
  "kernelspec": {
   "display_name": "Python 3",
   "language": "python",
   "name": "python3"
  },
  "language_info": {
   "codemirror_mode": {
    "name": "ipython",
    "version": 3
   },
   "file_extension": ".py",
   "mimetype": "text/x-python",
   "name": "python",
   "nbconvert_exporter": "python",
   "pygments_lexer": "ipython3",
   "version": "3.7.6"
  },
  "pycharm": {
   "stem_cell": {
    "cell_type": "raw",
    "metadata": {
     "collapsed": false
    },
    "source": []
   }
  }
 },
 "nbformat": 4,
 "nbformat_minor": 4
}
